{
  "nbformat": 4,
  "nbformat_minor": 0,
  "metadata": {
    "colab": {
      "provenance": [],
      "authorship_tag": "ABX9TyOVuriz+BsdVoSrXVP5pA89",
      "include_colab_link": true
    },
    "kernelspec": {
      "name": "python3",
      "display_name": "Python 3"
    },
    "language_info": {
      "name": "python"
    }
  },
  "cells": [
    {
      "cell_type": "markdown",
      "metadata": {
        "id": "view-in-github",
        "colab_type": "text"
      },
      "source": [
        "<a href=\"https://colab.research.google.com/github/tschelli/Makeover_Visualization/blob/main/Makeover_Monday_Visualization_10_03.ipynb\" target=\"_parent\"><img src=\"https://colab.research.google.com/assets/colab-badge.svg\" alt=\"Open In Colab\"/></a>"
      ]
    },
    {
      "cell_type": "markdown",
      "source": [
        "#Makeover Monday Project\n",
        "Coding Dojo Practice Assignment\n",
        "- Name: Tyler Schelling\n",
        "- Date Started: 10/5/2022\n",
        "\n",
        "Dataset pulled from [Makeover Monday](https://data.world/makeovermonday/2022w40) Week 40."
      ],
      "metadata": {
        "id": "m5v4FQaRgefy"
      }
    },
    {
      "cell_type": "markdown",
      "source": [
        "- Original Visualization:\n",
        "\n",
        "<img src=\"https://mediauploads.data.world/6f572e4d68cbb5434bb85c518107371f670c795165a53882ccc588376e933f27_CleanShot_2022_09_28_at_12.13.36.png\">"
      ],
      "metadata": {
        "id": "WpFmGt1QjdTs"
      }
    },
    {
      "cell_type": "markdown",
      "source": [
        "##Mount Drive | Import Libraries | Load Data"
      ],
      "metadata": {
        "id": "IuW9ZSh7gynh"
      }
    },
    {
      "cell_type": "code",
      "source": [
        "from google.colab import drive\n",
        "drive.mount('/content/drive')"
      ],
      "metadata": {
        "colab": {
          "base_uri": "https://localhost:8080/"
        },
        "id": "yoc8gHzqgd2X",
        "outputId": "72b22cf6-d229-48a6-c8fc-d30662d8bec3"
      },
      "execution_count": 1,
      "outputs": [
        {
          "output_type": "stream",
          "name": "stdout",
          "text": [
            "Mounted at /content/drive\n"
          ]
        }
      ]
    },
    {
      "cell_type": "code",
      "execution_count": 2,
      "metadata": {
        "id": "wDJ95R8Nf62O"
      },
      "outputs": [],
      "source": [
        "import pandas as pd\n",
        "import numpy as np\n",
        "\n",
        "import missingno as msno\n",
        "\n",
        "import matplotlib.pyplot as plt\n",
        "import seaborn as sns\n",
        "\n",
        "import math"
      ]
    },
    {
      "cell_type": "code",
      "source": [
        "filename = '/content/drive/MyDrive/02. Life/Coding Dojo/00 Datasets/Income Inequality.xlsx'\n",
        "df = pd.read_excel(filename)"
      ],
      "metadata": {
        "id": "ZzAM5x-Bg-y6"
      },
      "execution_count": 3,
      "outputs": []
    },
    {
      "cell_type": "markdown",
      "source": [
        "## Exploring/Cleaning the data"
      ],
      "metadata": {
        "id": "ryL1lhoRhKZs"
      }
    },
    {
      "cell_type": "code",
      "source": [
        "df.head()"
      ],
      "metadata": {
        "colab": {
          "base_uri": "https://localhost:8080/",
          "height": 206
        },
        "id": "CvJ56QSohKs7",
        "outputId": "20c09fbc-fa5d-4536-d60b-75211b902d07"
      },
      "execution_count": 4,
      "outputs": [
        {
          "output_type": "execute_result",
          "data": {
            "text/plain": [
              "  COUNTRY CODE    COUNTRY   REGION                 SUB-REGION G7  \\\n",
              "0          AUS  Australia  Oceania  Australia and New Zealand  N   \n",
              "1          AUS  Australia  Oceania  Australia and New Zealand  N   \n",
              "2          AUS  Australia  Oceania  Australia and New Zealand  N   \n",
              "3          AUS  Australia  Oceania  Australia and New Zealand  N   \n",
              "4          AUT    Austria   Europe             Western Europe  N   \n",
              "\n",
              "           INDICATOR SUBJECT  YEAR  VALUE  \n",
              "0  INCOME INEQUALITY    GINI  2012  0.326  \n",
              "1  INCOME INEQUALITY    GINI  2014  0.337  \n",
              "2  INCOME INEQUALITY    GINI  2016  0.330  \n",
              "3  INCOME INEQUALITY    GINI  2018  0.325  \n",
              "4  INCOME INEQUALITY    GINI  2007  0.284  "
            ],
            "text/html": [
              "\n",
              "  <div id=\"df-4f87ea67-d4d8-411f-a332-3b7712e50aa6\">\n",
              "    <div class=\"colab-df-container\">\n",
              "      <div>\n",
              "<style scoped>\n",
              "    .dataframe tbody tr th:only-of-type {\n",
              "        vertical-align: middle;\n",
              "    }\n",
              "\n",
              "    .dataframe tbody tr th {\n",
              "        vertical-align: top;\n",
              "    }\n",
              "\n",
              "    .dataframe thead th {\n",
              "        text-align: right;\n",
              "    }\n",
              "</style>\n",
              "<table border=\"1\" class=\"dataframe\">\n",
              "  <thead>\n",
              "    <tr style=\"text-align: right;\">\n",
              "      <th></th>\n",
              "      <th>COUNTRY CODE</th>\n",
              "      <th>COUNTRY</th>\n",
              "      <th>REGION</th>\n",
              "      <th>SUB-REGION</th>\n",
              "      <th>G7</th>\n",
              "      <th>INDICATOR</th>\n",
              "      <th>SUBJECT</th>\n",
              "      <th>YEAR</th>\n",
              "      <th>VALUE</th>\n",
              "    </tr>\n",
              "  </thead>\n",
              "  <tbody>\n",
              "    <tr>\n",
              "      <th>0</th>\n",
              "      <td>AUS</td>\n",
              "      <td>Australia</td>\n",
              "      <td>Oceania</td>\n",
              "      <td>Australia and New Zealand</td>\n",
              "      <td>N</td>\n",
              "      <td>INCOME INEQUALITY</td>\n",
              "      <td>GINI</td>\n",
              "      <td>2012</td>\n",
              "      <td>0.326</td>\n",
              "    </tr>\n",
              "    <tr>\n",
              "      <th>1</th>\n",
              "      <td>AUS</td>\n",
              "      <td>Australia</td>\n",
              "      <td>Oceania</td>\n",
              "      <td>Australia and New Zealand</td>\n",
              "      <td>N</td>\n",
              "      <td>INCOME INEQUALITY</td>\n",
              "      <td>GINI</td>\n",
              "      <td>2014</td>\n",
              "      <td>0.337</td>\n",
              "    </tr>\n",
              "    <tr>\n",
              "      <th>2</th>\n",
              "      <td>AUS</td>\n",
              "      <td>Australia</td>\n",
              "      <td>Oceania</td>\n",
              "      <td>Australia and New Zealand</td>\n",
              "      <td>N</td>\n",
              "      <td>INCOME INEQUALITY</td>\n",
              "      <td>GINI</td>\n",
              "      <td>2016</td>\n",
              "      <td>0.330</td>\n",
              "    </tr>\n",
              "    <tr>\n",
              "      <th>3</th>\n",
              "      <td>AUS</td>\n",
              "      <td>Australia</td>\n",
              "      <td>Oceania</td>\n",
              "      <td>Australia and New Zealand</td>\n",
              "      <td>N</td>\n",
              "      <td>INCOME INEQUALITY</td>\n",
              "      <td>GINI</td>\n",
              "      <td>2018</td>\n",
              "      <td>0.325</td>\n",
              "    </tr>\n",
              "    <tr>\n",
              "      <th>4</th>\n",
              "      <td>AUT</td>\n",
              "      <td>Austria</td>\n",
              "      <td>Europe</td>\n",
              "      <td>Western Europe</td>\n",
              "      <td>N</td>\n",
              "      <td>INCOME INEQUALITY</td>\n",
              "      <td>GINI</td>\n",
              "      <td>2007</td>\n",
              "      <td>0.284</td>\n",
              "    </tr>\n",
              "  </tbody>\n",
              "</table>\n",
              "</div>\n",
              "      <button class=\"colab-df-convert\" onclick=\"convertToInteractive('df-4f87ea67-d4d8-411f-a332-3b7712e50aa6')\"\n",
              "              title=\"Convert this dataframe to an interactive table.\"\n",
              "              style=\"display:none;\">\n",
              "        \n",
              "  <svg xmlns=\"http://www.w3.org/2000/svg\" height=\"24px\"viewBox=\"0 0 24 24\"\n",
              "       width=\"24px\">\n",
              "    <path d=\"M0 0h24v24H0V0z\" fill=\"none\"/>\n",
              "    <path d=\"M18.56 5.44l.94 2.06.94-2.06 2.06-.94-2.06-.94-.94-2.06-.94 2.06-2.06.94zm-11 1L8.5 8.5l.94-2.06 2.06-.94-2.06-.94L8.5 2.5l-.94 2.06-2.06.94zm10 10l.94 2.06.94-2.06 2.06-.94-2.06-.94-.94-2.06-.94 2.06-2.06.94z\"/><path d=\"M17.41 7.96l-1.37-1.37c-.4-.4-.92-.59-1.43-.59-.52 0-1.04.2-1.43.59L10.3 9.45l-7.72 7.72c-.78.78-.78 2.05 0 2.83L4 21.41c.39.39.9.59 1.41.59.51 0 1.02-.2 1.41-.59l7.78-7.78 2.81-2.81c.8-.78.8-2.07 0-2.86zM5.41 20L4 18.59l7.72-7.72 1.47 1.35L5.41 20z\"/>\n",
              "  </svg>\n",
              "      </button>\n",
              "      \n",
              "  <style>\n",
              "    .colab-df-container {\n",
              "      display:flex;\n",
              "      flex-wrap:wrap;\n",
              "      gap: 12px;\n",
              "    }\n",
              "\n",
              "    .colab-df-convert {\n",
              "      background-color: #E8F0FE;\n",
              "      border: none;\n",
              "      border-radius: 50%;\n",
              "      cursor: pointer;\n",
              "      display: none;\n",
              "      fill: #1967D2;\n",
              "      height: 32px;\n",
              "      padding: 0 0 0 0;\n",
              "      width: 32px;\n",
              "    }\n",
              "\n",
              "    .colab-df-convert:hover {\n",
              "      background-color: #E2EBFA;\n",
              "      box-shadow: 0px 1px 2px rgba(60, 64, 67, 0.3), 0px 1px 3px 1px rgba(60, 64, 67, 0.15);\n",
              "      fill: #174EA6;\n",
              "    }\n",
              "\n",
              "    [theme=dark] .colab-df-convert {\n",
              "      background-color: #3B4455;\n",
              "      fill: #D2E3FC;\n",
              "    }\n",
              "\n",
              "    [theme=dark] .colab-df-convert:hover {\n",
              "      background-color: #434B5C;\n",
              "      box-shadow: 0px 1px 3px 1px rgba(0, 0, 0, 0.15);\n",
              "      filter: drop-shadow(0px 1px 2px rgba(0, 0, 0, 0.3));\n",
              "      fill: #FFFFFF;\n",
              "    }\n",
              "  </style>\n",
              "\n",
              "      <script>\n",
              "        const buttonEl =\n",
              "          document.querySelector('#df-4f87ea67-d4d8-411f-a332-3b7712e50aa6 button.colab-df-convert');\n",
              "        buttonEl.style.display =\n",
              "          google.colab.kernel.accessAllowed ? 'block' : 'none';\n",
              "\n",
              "        async function convertToInteractive(key) {\n",
              "          const element = document.querySelector('#df-4f87ea67-d4d8-411f-a332-3b7712e50aa6');\n",
              "          const dataTable =\n",
              "            await google.colab.kernel.invokeFunction('convertToInteractive',\n",
              "                                                     [key], {});\n",
              "          if (!dataTable) return;\n",
              "\n",
              "          const docLinkHtml = 'Like what you see? Visit the ' +\n",
              "            '<a target=\"_blank\" href=https://colab.research.google.com/notebooks/data_table.ipynb>data table notebook</a>'\n",
              "            + ' to learn more about interactive tables.';\n",
              "          element.innerHTML = '';\n",
              "          dataTable['output_type'] = 'display_data';\n",
              "          await google.colab.output.renderOutput(dataTable, element);\n",
              "          const docLink = document.createElement('div');\n",
              "          docLink.innerHTML = docLinkHtml;\n",
              "          element.appendChild(docLink);\n",
              "        }\n",
              "      </script>\n",
              "    </div>\n",
              "  </div>\n",
              "  "
            ]
          },
          "metadata": {},
          "execution_count": 4
        }
      ]
    },
    {
      "cell_type": "code",
      "source": [
        "df['COUNTRY'].value_counts().head()"
      ],
      "metadata": {
        "colab": {
          "base_uri": "https://localhost:8080/"
        },
        "id": "rrrZ8ohRmjuZ",
        "outputId": "d133219c-11d8-4b50-dc15-9705e07aca93"
      },
      "execution_count": 5,
      "outputs": [
        {
          "output_type": "execute_result",
          "data": {
            "text/plain": [
              "Canada            44\n",
              "Finland           32\n",
              "United Kingdom    18\n",
              "Latvia            17\n",
              "Portugal          16\n",
              "Name: COUNTRY, dtype: int64"
            ]
          },
          "metadata": {},
          "execution_count": 5
        }
      ]
    },
    {
      "cell_type": "code",
      "source": [
        "plot_df = df.drop(columns = ['COUNTRY CODE', 'REGION', 'SUB-REGION', 'INDICATOR', 'SUBJECT'])\n",
        "plot_df.head()"
      ],
      "metadata": {
        "colab": {
          "base_uri": "https://localhost:8080/",
          "height": 206
        },
        "id": "EwagdaGKkUqQ",
        "outputId": "90388c1a-3f01-4053-c1b8-797e0b8830c8"
      },
      "execution_count": 6,
      "outputs": [
        {
          "output_type": "execute_result",
          "data": {
            "text/plain": [
              "     COUNTRY G7  YEAR  VALUE\n",
              "0  Australia  N  2012  0.326\n",
              "1  Australia  N  2014  0.337\n",
              "2  Australia  N  2016  0.330\n",
              "3  Australia  N  2018  0.325\n",
              "4    Austria  N  2007  0.284"
            ],
            "text/html": [
              "\n",
              "  <div id=\"df-a269440e-8fdc-4d31-8ea3-9215e0424112\">\n",
              "    <div class=\"colab-df-container\">\n",
              "      <div>\n",
              "<style scoped>\n",
              "    .dataframe tbody tr th:only-of-type {\n",
              "        vertical-align: middle;\n",
              "    }\n",
              "\n",
              "    .dataframe tbody tr th {\n",
              "        vertical-align: top;\n",
              "    }\n",
              "\n",
              "    .dataframe thead th {\n",
              "        text-align: right;\n",
              "    }\n",
              "</style>\n",
              "<table border=\"1\" class=\"dataframe\">\n",
              "  <thead>\n",
              "    <tr style=\"text-align: right;\">\n",
              "      <th></th>\n",
              "      <th>COUNTRY</th>\n",
              "      <th>G7</th>\n",
              "      <th>YEAR</th>\n",
              "      <th>VALUE</th>\n",
              "    </tr>\n",
              "  </thead>\n",
              "  <tbody>\n",
              "    <tr>\n",
              "      <th>0</th>\n",
              "      <td>Australia</td>\n",
              "      <td>N</td>\n",
              "      <td>2012</td>\n",
              "      <td>0.326</td>\n",
              "    </tr>\n",
              "    <tr>\n",
              "      <th>1</th>\n",
              "      <td>Australia</td>\n",
              "      <td>N</td>\n",
              "      <td>2014</td>\n",
              "      <td>0.337</td>\n",
              "    </tr>\n",
              "    <tr>\n",
              "      <th>2</th>\n",
              "      <td>Australia</td>\n",
              "      <td>N</td>\n",
              "      <td>2016</td>\n",
              "      <td>0.330</td>\n",
              "    </tr>\n",
              "    <tr>\n",
              "      <th>3</th>\n",
              "      <td>Australia</td>\n",
              "      <td>N</td>\n",
              "      <td>2018</td>\n",
              "      <td>0.325</td>\n",
              "    </tr>\n",
              "    <tr>\n",
              "      <th>4</th>\n",
              "      <td>Austria</td>\n",
              "      <td>N</td>\n",
              "      <td>2007</td>\n",
              "      <td>0.284</td>\n",
              "    </tr>\n",
              "  </tbody>\n",
              "</table>\n",
              "</div>\n",
              "      <button class=\"colab-df-convert\" onclick=\"convertToInteractive('df-a269440e-8fdc-4d31-8ea3-9215e0424112')\"\n",
              "              title=\"Convert this dataframe to an interactive table.\"\n",
              "              style=\"display:none;\">\n",
              "        \n",
              "  <svg xmlns=\"http://www.w3.org/2000/svg\" height=\"24px\"viewBox=\"0 0 24 24\"\n",
              "       width=\"24px\">\n",
              "    <path d=\"M0 0h24v24H0V0z\" fill=\"none\"/>\n",
              "    <path d=\"M18.56 5.44l.94 2.06.94-2.06 2.06-.94-2.06-.94-.94-2.06-.94 2.06-2.06.94zm-11 1L8.5 8.5l.94-2.06 2.06-.94-2.06-.94L8.5 2.5l-.94 2.06-2.06.94zm10 10l.94 2.06.94-2.06 2.06-.94-2.06-.94-.94-2.06-.94 2.06-2.06.94z\"/><path d=\"M17.41 7.96l-1.37-1.37c-.4-.4-.92-.59-1.43-.59-.52 0-1.04.2-1.43.59L10.3 9.45l-7.72 7.72c-.78.78-.78 2.05 0 2.83L4 21.41c.39.39.9.59 1.41.59.51 0 1.02-.2 1.41-.59l7.78-7.78 2.81-2.81c.8-.78.8-2.07 0-2.86zM5.41 20L4 18.59l7.72-7.72 1.47 1.35L5.41 20z\"/>\n",
              "  </svg>\n",
              "      </button>\n",
              "      \n",
              "  <style>\n",
              "    .colab-df-container {\n",
              "      display:flex;\n",
              "      flex-wrap:wrap;\n",
              "      gap: 12px;\n",
              "    }\n",
              "\n",
              "    .colab-df-convert {\n",
              "      background-color: #E8F0FE;\n",
              "      border: none;\n",
              "      border-radius: 50%;\n",
              "      cursor: pointer;\n",
              "      display: none;\n",
              "      fill: #1967D2;\n",
              "      height: 32px;\n",
              "      padding: 0 0 0 0;\n",
              "      width: 32px;\n",
              "    }\n",
              "\n",
              "    .colab-df-convert:hover {\n",
              "      background-color: #E2EBFA;\n",
              "      box-shadow: 0px 1px 2px rgba(60, 64, 67, 0.3), 0px 1px 3px 1px rgba(60, 64, 67, 0.15);\n",
              "      fill: #174EA6;\n",
              "    }\n",
              "\n",
              "    [theme=dark] .colab-df-convert {\n",
              "      background-color: #3B4455;\n",
              "      fill: #D2E3FC;\n",
              "    }\n",
              "\n",
              "    [theme=dark] .colab-df-convert:hover {\n",
              "      background-color: #434B5C;\n",
              "      box-shadow: 0px 1px 3px 1px rgba(0, 0, 0, 0.15);\n",
              "      filter: drop-shadow(0px 1px 2px rgba(0, 0, 0, 0.3));\n",
              "      fill: #FFFFFF;\n",
              "    }\n",
              "  </style>\n",
              "\n",
              "      <script>\n",
              "        const buttonEl =\n",
              "          document.querySelector('#df-a269440e-8fdc-4d31-8ea3-9215e0424112 button.colab-df-convert');\n",
              "        buttonEl.style.display =\n",
              "          google.colab.kernel.accessAllowed ? 'block' : 'none';\n",
              "\n",
              "        async function convertToInteractive(key) {\n",
              "          const element = document.querySelector('#df-a269440e-8fdc-4d31-8ea3-9215e0424112');\n",
              "          const dataTable =\n",
              "            await google.colab.kernel.invokeFunction('convertToInteractive',\n",
              "                                                     [key], {});\n",
              "          if (!dataTable) return;\n",
              "\n",
              "          const docLinkHtml = 'Like what you see? Visit the ' +\n",
              "            '<a target=\"_blank\" href=https://colab.research.google.com/notebooks/data_table.ipynb>data table notebook</a>'\n",
              "            + ' to learn more about interactive tables.';\n",
              "          element.innerHTML = '';\n",
              "          dataTable['output_type'] = 'display_data';\n",
              "          await google.colab.output.renderOutput(dataTable, element);\n",
              "          const docLink = document.createElement('div');\n",
              "          docLink.innerHTML = docLinkHtml;\n",
              "          element.appendChild(docLink);\n",
              "        }\n",
              "      </script>\n",
              "    </div>\n",
              "  </div>\n",
              "  "
            ]
          },
          "metadata": {},
          "execution_count": 6
        }
      ]
    },
    {
      "cell_type": "code",
      "source": [
        "year_filter = (plot_df['YEAR'] >= 2017) & (plot_df['YEAR'] <= 2020)\n",
        "plot_df = plot_df[year_filter]"
      ],
      "metadata": {
        "id": "7sz4OXZAkwWx"
      },
      "execution_count": 7,
      "outputs": []
    },
    {
      "cell_type": "code",
      "source": [
        "plot_df = plot_df.sort_values('YEAR', ascending = False).drop_duplicates('COUNTRY', keep = 'first')\n",
        "plot_df = plot_df.sort_values('VALUE', ascending = False).head(15)"
      ],
      "metadata": {
        "id": "zd39aFKYl5vI"
      },
      "execution_count": 8,
      "outputs": []
    },
    {
      "cell_type": "markdown",
      "source": [
        "##Reproducing the original visualization"
      ],
      "metadata": {
        "id": "mwhUH3ExoWue"
      }
    },
    {
      "cell_type": "code",
      "source": [
        "color_map = []\n",
        "for ind in plot_df.index:\n",
        "    if plot_df.loc[ind, 'G7'] == 'Y':\n",
        "        color_map.append('red')\n",
        "    else:\n",
        "        color_map.append('grey')"
      ],
      "metadata": {
        "id": "bfRuGw8Govk3"
      },
      "execution_count": 9,
      "outputs": []
    },
    {
      "cell_type": "code",
      "source": [
        "fig, axes = plt.subplots(figsize = (10,6))\n",
        "\n",
        "sns.barplot(data = plot_df, x = 'VALUE', y = 'COUNTRY', palette = color_map)\n",
        "\n",
        "fig.suptitle('The UK has the second highest income inequality among G7 countries', fontsize = 20, fontweight = 'bold', y = 1.03)\n",
        "axes.set_title('Gini coefficient, 0 = complete equality; 1 = complete inequality', y = 1.08)\n",
        "\n",
        "axes.xaxis.set_ticks_position('top')\n",
        "axes.grid(axis='x')\n",
        "axes.set(xlabel=None, ylabel=None)\n",
        "\n",
        "axes.text(.1, 15.25, 'Note: Selected countries shown for which recent data (2017 to 2020) is available')\n",
        "\n",
        "axes.legend(title = 'G7 Nation', loc='upper left', labels = ['G7', 'Other'], bbox_to_anchor=(-.1,1.3))\n",
        "fig.tight_layout();"
      ],
      "metadata": {
        "colab": {
          "base_uri": "https://localhost:8080/",
          "height": 464
        },
        "id": "Gx_hY4eJoNSD",
        "outputId": "0518dc32-0be5-48da-f6dc-45866f514005"
      },
      "execution_count": 10,
      "outputs": [
        {
          "output_type": "display_data",
          "data": {
            "text/plain": [
              "<Figure size 720x432 with 1 Axes>"
            ],
            "image/png": "[encoded data removed]"
          },
          "metadata": {
            "needs_background": "light"
          }
        }
      ]
    },
    {
      "cell_type": "markdown",
      "source": [
        "##Improving the plot"
      ],
      "metadata": {
        "id": "XtFpOOvL0mDJ"
      }
    },
    {
      "cell_type": "code",
      "source": [],
      "metadata": {
        "id": "ShJho_TR0lfV"
      },
      "execution_count": 10,
      "outputs": []
    }
  ]
}