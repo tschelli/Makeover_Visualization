{
  "nbformat": 4,
  "nbformat_minor": 0,
  "metadata": {
    "colab": {
      "provenance": [],
      "authorship_tag": "ABX9TyPMrwLGUjRD4ofvYU2RLBed",
      "include_colab_link": true
    },
    "kernelspec": {
      "name": "python3",
      "display_name": "Python 3"
    },
    "language_info": {
      "name": "python"
    }
  },
  "cells": [
    {
      "cell_type": "markdown",
      "metadata": {
        "id": "view-in-github",
        "colab_type": "text"
      },
      "source": [
        "<a href=\"https://colab.research.google.com/github/tschelli/Makeover_Visualization/blob/main/Makeover_Monday_Visualization_10_03.ipynb\" target=\"_parent\"><img src=\"https://colab.research.google.com/assets/colab-badge.svg\" alt=\"Open In Colab\"/></a>"
      ]
    },
    {
      "cell_type": "markdown",
      "source": [
        "#Makeover Monday Project\n",
        "Coding Dojo Practice Assignment\n",
        "- Name: Tyler Schelling\n",
        "- Date Started: 10/5/2022\n",
        "\n",
        "Dataset pulled from [Makeover Monday](https://data.world/makeovermonday/2022w40) Week 40."
      ],
      "metadata": {
        "id": "m5v4FQaRgefy"
      }
    },
    {
      "cell_type": "markdown",
      "source": [
        "- Original Visualization:\n",
        "\n",
        "<img src=\"https://mediauploads.data.world/6f572e4d68cbb5434bb85c518107371f670c795165a53882ccc588376e933f27_CleanShot_2022_09_28_at_12.13.36.png\">"
      ],
      "metadata": {
        "id": "WpFmGt1QjdTs"
      }
    },
    {
      "cell_type": "markdown",
      "source": [
        "##Mount Drive | Import Libraries | Load Data"
      ],
      "metadata": {
        "id": "IuW9ZSh7gynh"
      }
    },
    {
      "cell_type": "code",
      "source": [
        "from google.colab import drive\n",
        "drive.mount('/content/drive')"
      ],
      "metadata": {
        "colab": {
          "base_uri": "https://localhost:8080/"
        },
        "id": "yoc8gHzqgd2X",
        "outputId": "7af0c9b9-2ceb-4a6a-cc61-b835e87e7425"
      },
      "execution_count": 23,
      "outputs": [
        {
          "output_type": "stream",
          "name": "stdout",
          "text": [
            "Drive already mounted at /content/drive; to attempt to forcibly remount, call drive.mount(\"/content/drive\", force_remount=True).\n"
          ]
        }
      ]
    },
    {
      "cell_type": "code",
      "execution_count": 24,
      "metadata": {
        "id": "wDJ95R8Nf62O"
      },
      "outputs": [],
      "source": [
        "import pandas as pd\n",
        "import numpy as np\n",
        "\n",
        "import missingno as msno\n",
        "\n",
        "import matplotlib.pyplot as plt\n",
        "import seaborn as sns\n",
        "\n",
        "import math"
      ]
    },
    {
      "cell_type": "code",
      "source": [
        "filename = '/content/drive/MyDrive/02. Life/Coding Dojo/00 Datasets/Income Inequality.xlsx'\n",
        "df = pd.read_excel(filename)"
      ],
      "metadata": {
        "id": "ZzAM5x-Bg-y6"
      },
      "execution_count": 25,
      "outputs": []
    },
    {
      "cell_type": "markdown",
      "source": [
        "## Exploring/Cleaning the data"
      ],
      "metadata": {
        "id": "ryL1lhoRhKZs"
      }
    },
    {
      "cell_type": "code",
      "source": [
        "df"
      ],
      "metadata": {
        "colab": {
          "base_uri": "https://localhost:8080/",
          "height": 659
        },
        "id": "CvJ56QSohKs7",
        "outputId": "6afee245-3e2d-4c29-9b7e-e4ce3d4571b4"
      },
      "execution_count": 26,
      "outputs": [
        {
          "output_type": "execute_result",
          "data": {
            "text/plain": [
              "    COUNTRY CODE    COUNTRY   REGION                 SUB-REGION G7  \\\n",
              "0            AUS  Australia  Oceania  Australia and New Zealand  N   \n",
              "1            AUS  Australia  Oceania  Australia and New Zealand  N   \n",
              "2            AUS  Australia  Oceania  Australia and New Zealand  N   \n",
              "3            AUS  Australia  Oceania  Australia and New Zealand  N   \n",
              "4            AUT    Austria   Europe             Western Europe  N   \n",
              "..           ...        ...      ...                        ... ..   \n",
              "499          ROU    Romania   Europe             Eastern Europe  N   \n",
              "500          ROU    Romania   Europe             Eastern Europe  N   \n",
              "501          ROU    Romania   Europe             Eastern Europe  N   \n",
              "502          ROU    Romania   Europe             Eastern Europe  N   \n",
              "503          ROU    Romania   Europe             Eastern Europe  N   \n",
              "\n",
              "             INDICATOR SUBJECT  YEAR  VALUE  \n",
              "0    INCOME INEQUALITY    GINI  2012  0.326  \n",
              "1    INCOME INEQUALITY    GINI  2014  0.337  \n",
              "2    INCOME INEQUALITY    GINI  2016  0.330  \n",
              "3    INCOME INEQUALITY    GINI  2018  0.325  \n",
              "4    INCOME INEQUALITY    GINI  2007  0.284  \n",
              "..                 ...     ...   ...    ...  \n",
              "499  INCOME INEQUALITY    GINI  2015  0.346  \n",
              "500  INCOME INEQUALITY    GINI  2016  0.332  \n",
              "501  INCOME INEQUALITY    GINI  2017  0.351  \n",
              "502  INCOME INEQUALITY    GINI  2018  0.350  \n",
              "503  INCOME INEQUALITY    GINI  2019  0.339  \n",
              "\n",
              "[504 rows x 9 columns]"
            ],
            "text/html": [
              "\n",
              "  <div id=\"df-4d5ddcf8-74d2-41ae-906f-e3603d98d353\">\n",
              "    <div class=\"colab-df-container\">\n",
              "      <div>\n",
              "<style scoped>\n",
              "    .dataframe tbody tr th:only-of-type {\n",
              "        vertical-align: middle;\n",
              "    }\n",
              "\n",
              "    .dataframe tbody tr th {\n",
              "        vertical-align: top;\n",
              "    }\n",
              "\n",
              "    .dataframe thead th {\n",
              "        text-align: right;\n",
              "    }\n",
              "</style>\n",
              "<table border=\"1\" class=\"dataframe\">\n",
              "  <thead>\n",
              "    <tr style=\"text-align: right;\">\n",
              "      <th></th>\n",
              "      <th>COUNTRY CODE</th>\n",
              "      <th>COUNTRY</th>\n",
              "      <th>REGION</th>\n",
              "      <th>SUB-REGION</th>\n",
              "      <th>G7</th>\n",
              "      <th>INDICATOR</th>\n",
              "      <th>SUBJECT</th>\n",
              "      <th>YEAR</th>\n",
              "      <th>VALUE</th>\n",
              "    </tr>\n",
              "  </thead>\n",
              "  <tbody>\n",
              "    <tr>\n",
              "      <th>0</th>\n",
              "      <td>AUS</td>\n",
              "      <td>Australia</td>\n",
              "      <td>Oceania</td>\n",
              "      <td>Australia and New Zealand</td>\n",
              "      <td>N</td>\n",
              "      <td>INCOME INEQUALITY</td>\n",
              "      <td>GINI</td>\n",
              "      <td>2012</td>\n",
              "      <td>0.326</td>\n",
              "    </tr>\n",
              "    <tr>\n",
              "      <th>1</th>\n",
              "      <td>AUS</td>\n",
              "      <td>Australia</td>\n",
              "      <td>Oceania</td>\n",
              "      <td>Australia and New Zealand</td>\n",
              "      <td>N</td>\n",
              "      <td>INCOME INEQUALITY</td>\n",
              "      <td>GINI</td>\n",
              "      <td>2014</td>\n",
              "      <td>0.337</td>\n",
              "    </tr>\n",
              "    <tr>\n",
              "      <th>2</th>\n",
              "      <td>AUS</td>\n",
              "      <td>Australia</td>\n",
              "      <td>Oceania</td>\n",
              "      <td>Australia and New Zealand</td>\n",
              "      <td>N</td>\n",
              "      <td>INCOME INEQUALITY</td>\n",
              "      <td>GINI</td>\n",
              "      <td>2016</td>\n",
              "      <td>0.330</td>\n",
              "    </tr>\n",
              "    <tr>\n",
              "      <th>3</th>\n",
              "      <td>AUS</td>\n",
              "      <td>Australia</td>\n",
              "      <td>Oceania</td>\n",
              "      <td>Australia and New Zealand</td>\n",
              "      <td>N</td>\n",
              "      <td>INCOME INEQUALITY</td>\n",
              "      <td>GINI</td>\n",
              "      <td>2018</td>\n",
              "      <td>0.325</td>\n",
              "    </tr>\n",
              "    <tr>\n",
              "      <th>4</th>\n",
              "      <td>AUT</td>\n",
              "      <td>Austria</td>\n",
              "      <td>Europe</td>\n",
              "      <td>Western Europe</td>\n",
              "      <td>N</td>\n",
              "      <td>INCOME INEQUALITY</td>\n",
              "      <td>GINI</td>\n",
              "      <td>2007</td>\n",
              "      <td>0.284</td>\n",
              "    </tr>\n",
              "    <tr>\n",
              "      <th>...</th>\n",
              "      <td>...</td>\n",
              "      <td>...</td>\n",
              "      <td>...</td>\n",
              "      <td>...</td>\n",
              "      <td>...</td>\n",
              "      <td>...</td>\n",
              "      <td>...</td>\n",
              "      <td>...</td>\n",
              "      <td>...</td>\n",
              "    </tr>\n",
              "    <tr>\n",
              "      <th>499</th>\n",
              "      <td>ROU</td>\n",
              "      <td>Romania</td>\n",
              "      <td>Europe</td>\n",
              "      <td>Eastern Europe</td>\n",
              "      <td>N</td>\n",
              "      <td>INCOME INEQUALITY</td>\n",
              "      <td>GINI</td>\n",
              "      <td>2015</td>\n",
              "      <td>0.346</td>\n",
              "    </tr>\n",
              "    <tr>\n",
              "      <th>500</th>\n",
              "      <td>ROU</td>\n",
              "      <td>Romania</td>\n",
              "      <td>Europe</td>\n",
              "      <td>Eastern Europe</td>\n",
              "      <td>N</td>\n",
              "      <td>INCOME INEQUALITY</td>\n",
              "      <td>GINI</td>\n",
              "      <td>2016</td>\n",
              "      <td>0.332</td>\n",
              "    </tr>\n",
              "    <tr>\n",
              "      <th>501</th>\n",
              "      <td>ROU</td>\n",
              "      <td>Romania</td>\n",
              "      <td>Europe</td>\n",
              "      <td>Eastern Europe</td>\n",
              "      <td>N</td>\n",
              "      <td>INCOME INEQUALITY</td>\n",
              "      <td>GINI</td>\n",
              "      <td>2017</td>\n",
              "      <td>0.351</td>\n",
              "    </tr>\n",
              "    <tr>\n",
              "      <th>502</th>\n",
              "      <td>ROU</td>\n",
              "      <td>Romania</td>\n",
              "      <td>Europe</td>\n",
              "      <td>Eastern Europe</td>\n",
              "      <td>N</td>\n",
              "      <td>INCOME INEQUALITY</td>\n",
              "      <td>GINI</td>\n",
              "      <td>2018</td>\n",
              "      <td>0.350</td>\n",
              "    </tr>\n",
              "    <tr>\n",
              "      <th>503</th>\n",
              "      <td>ROU</td>\n",
              "      <td>Romania</td>\n",
              "      <td>Europe</td>\n",
              "      <td>Eastern Europe</td>\n",
              "      <td>N</td>\n",
              "      <td>INCOME INEQUALITY</td>\n",
              "      <td>GINI</td>\n",
              "      <td>2019</td>\n",
              "      <td>0.339</td>\n",
              "    </tr>\n",
              "  </tbody>\n",
              "</table>\n",
              "<p>504 rows × 9 columns</p>\n",
              "</div>\n",
              "      <button class=\"colab-df-convert\" onclick=\"convertToInteractive('df-4d5ddcf8-74d2-41ae-906f-e3603d98d353')\"\n",
              "              title=\"Convert this dataframe to an interactive table.\"\n",
              "              style=\"display:none;\">\n",
              "        \n",
              "  <svg xmlns=\"http://www.w3.org/2000/svg\" height=\"24px\"viewBox=\"0 0 24 24\"\n",
              "       width=\"24px\">\n",
              "    <path d=\"M0 0h24v24H0V0z\" fill=\"none\"/>\n",
              "    <path d=\"M18.56 5.44l.94 2.06.94-2.06 2.06-.94-2.06-.94-.94-2.06-.94 2.06-2.06.94zm-11 1L8.5 8.5l.94-2.06 2.06-.94-2.06-.94L8.5 2.5l-.94 2.06-2.06.94zm10 10l.94 2.06.94-2.06 2.06-.94-2.06-.94-.94-2.06-.94 2.06-2.06.94z\"/><path d=\"M17.41 7.96l-1.37-1.37c-.4-.4-.92-.59-1.43-.59-.52 0-1.04.2-1.43.59L10.3 9.45l-7.72 7.72c-.78.78-.78 2.05 0 2.83L4 21.41c.39.39.9.59 1.41.59.51 0 1.02-.2 1.41-.59l7.78-7.78 2.81-2.81c.8-.78.8-2.07 0-2.86zM5.41 20L4 18.59l7.72-7.72 1.47 1.35L5.41 20z\"/>\n",
              "  </svg>\n",
              "      </button>\n",
              "      \n",
              "  <style>\n",
              "    .colab-df-container {\n",
              "      display:flex;\n",
              "      flex-wrap:wrap;\n",
              "      gap: 12px;\n",
              "    }\n",
              "\n",
              "    .colab-df-convert {\n",
              "      background-color: #E8F0FE;\n",
              "      border: none;\n",
              "      border-radius: 50%;\n",
              "      cursor: pointer;\n",
              "      display: none;\n",
              "      fill: #1967D2;\n",
              "      height: 32px;\n",
              "      padding: 0 0 0 0;\n",
              "      width: 32px;\n",
              "    }\n",
              "\n",
              "    .colab-df-convert:hover {\n",
              "      background-color: #E2EBFA;\n",
              "      box-shadow: 0px 1px 2px rgba(60, 64, 67, 0.3), 0px 1px 3px 1px rgba(60, 64, 67, 0.15);\n",
              "      fill: #174EA6;\n",
              "    }\n",
              "\n",
              "    [theme=dark] .colab-df-convert {\n",
              "      background-color: #3B4455;\n",
              "      fill: #D2E3FC;\n",
              "    }\n",
              "\n",
              "    [theme=dark] .colab-df-convert:hover {\n",
              "      background-color: #434B5C;\n",
              "      box-shadow: 0px 1px 3px 1px rgba(0, 0, 0, 0.15);\n",
              "      filter: drop-shadow(0px 1px 2px rgba(0, 0, 0, 0.3));\n",
              "      fill: #FFFFFF;\n",
              "    }\n",
              "  </style>\n",
              "\n",
              "      <script>\n",
              "        const buttonEl =\n",
              "          document.querySelector('#df-4d5ddcf8-74d2-41ae-906f-e3603d98d353 button.colab-df-convert');\n",
              "        buttonEl.style.display =\n",
              "          google.colab.kernel.accessAllowed ? 'block' : 'none';\n",
              "\n",
              "        async function convertToInteractive(key) {\n",
              "          const element = document.querySelector('#df-4d5ddcf8-74d2-41ae-906f-e3603d98d353');\n",
              "          const dataTable =\n",
              "            await google.colab.kernel.invokeFunction('convertToInteractive',\n",
              "                                                     [key], {});\n",
              "          if (!dataTable) return;\n",
              "\n",
              "          const docLinkHtml = 'Like what you see? Visit the ' +\n",
              "            '<a target=\"_blank\" href=https://colab.research.google.com/notebooks/data_table.ipynb>data table notebook</a>'\n",
              "            + ' to learn more about interactive tables.';\n",
              "          element.innerHTML = '';\n",
              "          dataTable['output_type'] = 'display_data';\n",
              "          await google.colab.output.renderOutput(dataTable, element);\n",
              "          const docLink = document.createElement('div');\n",
              "          docLink.innerHTML = docLinkHtml;\n",
              "          element.appendChild(docLink);\n",
              "        }\n",
              "      </script>\n",
              "    </div>\n",
              "  </div>\n",
              "  "
            ]
          },
          "metadata": {},
          "execution_count": 26
        }
      ]
    },
    {
      "cell_type": "code",
      "source": [
        "df['COUNTRY'].value_counts().head()"
      ],
      "metadata": {
        "colab": {
          "base_uri": "https://localhost:8080/"
        },
        "id": "rrrZ8ohRmjuZ",
        "outputId": "d6fa7129-4889-4e36-e763-8774cf773f09"
      },
      "execution_count": 27,
      "outputs": [
        {
          "output_type": "execute_result",
          "data": {
            "text/plain": [
              "Canada            44\n",
              "Finland           32\n",
              "United Kingdom    18\n",
              "Latvia            17\n",
              "Portugal          16\n",
              "Name: COUNTRY, dtype: int64"
            ]
          },
          "metadata": {},
          "execution_count": 27
        }
      ]
    },
    {
      "cell_type": "code",
      "source": [
        "plot_df = df.drop(columns = ['COUNTRY CODE', 'REGION', 'SUB-REGION', 'INDICATOR', 'SUBJECT'])\n",
        "plot_df.head()"
      ],
      "metadata": {
        "colab": {
          "base_uri": "https://localhost:8080/",
          "height": 206
        },
        "id": "EwagdaGKkUqQ",
        "outputId": "881bd210-fe58-4336-e2e3-c1dbc4aaa4bb"
      },
      "execution_count": 28,
      "outputs": [
        {
          "output_type": "execute_result",
          "data": {
            "text/plain": [
              "     COUNTRY G7  YEAR  VALUE\n",
              "0  Australia  N  2012  0.326\n",
              "1  Australia  N  2014  0.337\n",
              "2  Australia  N  2016  0.330\n",
              "3  Australia  N  2018  0.325\n",
              "4    Austria  N  2007  0.284"
            ],
            "text/html": [
              "\n",
              "  <div id=\"df-92fc999d-f75a-438b-a996-fcb610f3ebf8\">\n",
              "    <div class=\"colab-df-container\">\n",
              "      <div>\n",
              "<style scoped>\n",
              "    .dataframe tbody tr th:only-of-type {\n",
              "        vertical-align: middle;\n",
              "    }\n",
              "\n",
              "    .dataframe tbody tr th {\n",
              "        vertical-align: top;\n",
              "    }\n",
              "\n",
              "    .dataframe thead th {\n",
              "        text-align: right;\n",
              "    }\n",
              "</style>\n",
              "<table border=\"1\" class=\"dataframe\">\n",
              "  <thead>\n",
              "    <tr style=\"text-align: right;\">\n",
              "      <th></th>\n",
              "      <th>COUNTRY</th>\n",
              "      <th>G7</th>\n",
              "      <th>YEAR</th>\n",
              "      <th>VALUE</th>\n",
              "    </tr>\n",
              "  </thead>\n",
              "  <tbody>\n",
              "    <tr>\n",
              "      <th>0</th>\n",
              "      <td>Australia</td>\n",
              "      <td>N</td>\n",
              "      <td>2012</td>\n",
              "      <td>0.326</td>\n",
              "    </tr>\n",
              "    <tr>\n",
              "      <th>1</th>\n",
              "      <td>Australia</td>\n",
              "      <td>N</td>\n",
              "      <td>2014</td>\n",
              "      <td>0.337</td>\n",
              "    </tr>\n",
              "    <tr>\n",
              "      <th>2</th>\n",
              "      <td>Australia</td>\n",
              "      <td>N</td>\n",
              "      <td>2016</td>\n",
              "      <td>0.330</td>\n",
              "    </tr>\n",
              "    <tr>\n",
              "      <th>3</th>\n",
              "      <td>Australia</td>\n",
              "      <td>N</td>\n",
              "      <td>2018</td>\n",
              "      <td>0.325</td>\n",
              "    </tr>\n",
              "    <tr>\n",
              "      <th>4</th>\n",
              "      <td>Austria</td>\n",
              "      <td>N</td>\n",
              "      <td>2007</td>\n",
              "      <td>0.284</td>\n",
              "    </tr>\n",
              "  </tbody>\n",
              "</table>\n",
              "</div>\n",
              "      <button class=\"colab-df-convert\" onclick=\"convertToInteractive('df-92fc999d-f75a-438b-a996-fcb610f3ebf8')\"\n",
              "              title=\"Convert this dataframe to an interactive table.\"\n",
              "              style=\"display:none;\">\n",
              "        \n",
              "  <svg xmlns=\"http://www.w3.org/2000/svg\" height=\"24px\"viewBox=\"0 0 24 24\"\n",
              "       width=\"24px\">\n",
              "    <path d=\"M0 0h24v24H0V0z\" fill=\"none\"/>\n",
              "    <path d=\"M18.56 5.44l.94 2.06.94-2.06 2.06-.94-2.06-.94-.94-2.06-.94 2.06-2.06.94zm-11 1L8.5 8.5l.94-2.06 2.06-.94-2.06-.94L8.5 2.5l-.94 2.06-2.06.94zm10 10l.94 2.06.94-2.06 2.06-.94-2.06-.94-.94-2.06-.94 2.06-2.06.94z\"/><path d=\"M17.41 7.96l-1.37-1.37c-.4-.4-.92-.59-1.43-.59-.52 0-1.04.2-1.43.59L10.3 9.45l-7.72 7.72c-.78.78-.78 2.05 0 2.83L4 21.41c.39.39.9.59 1.41.59.51 0 1.02-.2 1.41-.59l7.78-7.78 2.81-2.81c.8-.78.8-2.07 0-2.86zM5.41 20L4 18.59l7.72-7.72 1.47 1.35L5.41 20z\"/>\n",
              "  </svg>\n",
              "      </button>\n",
              "      \n",
              "  <style>\n",
              "    .colab-df-container {\n",
              "      display:flex;\n",
              "      flex-wrap:wrap;\n",
              "      gap: 12px;\n",
              "    }\n",
              "\n",
              "    .colab-df-convert {\n",
              "      background-color: #E8F0FE;\n",
              "      border: none;\n",
              "      border-radius: 50%;\n",
              "      cursor: pointer;\n",
              "      display: none;\n",
              "      fill: #1967D2;\n",
              "      height: 32px;\n",
              "      padding: 0 0 0 0;\n",
              "      width: 32px;\n",
              "    }\n",
              "\n",
              "    .colab-df-convert:hover {\n",
              "      background-color: #E2EBFA;\n",
              "      box-shadow: 0px 1px 2px rgba(60, 64, 67, 0.3), 0px 1px 3px 1px rgba(60, 64, 67, 0.15);\n",
              "      fill: #174EA6;\n",
              "    }\n",
              "\n",
              "    [theme=dark] .colab-df-convert {\n",
              "      background-color: #3B4455;\n",
              "      fill: #D2E3FC;\n",
              "    }\n",
              "\n",
              "    [theme=dark] .colab-df-convert:hover {\n",
              "      background-color: #434B5C;\n",
              "      box-shadow: 0px 1px 3px 1px rgba(0, 0, 0, 0.15);\n",
              "      filter: drop-shadow(0px 1px 2px rgba(0, 0, 0, 0.3));\n",
              "      fill: #FFFFFF;\n",
              "    }\n",
              "  </style>\n",
              "\n",
              "      <script>\n",
              "        const buttonEl =\n",
              "          document.querySelector('#df-92fc999d-f75a-438b-a996-fcb610f3ebf8 button.colab-df-convert');\n",
              "        buttonEl.style.display =\n",
              "          google.colab.kernel.accessAllowed ? 'block' : 'none';\n",
              "\n",
              "        async function convertToInteractive(key) {\n",
              "          const element = document.querySelector('#df-92fc999d-f75a-438b-a996-fcb610f3ebf8');\n",
              "          const dataTable =\n",
              "            await google.colab.kernel.invokeFunction('convertToInteractive',\n",
              "                                                     [key], {});\n",
              "          if (!dataTable) return;\n",
              "\n",
              "          const docLinkHtml = 'Like what you see? Visit the ' +\n",
              "            '<a target=\"_blank\" href=https://colab.research.google.com/notebooks/data_table.ipynb>data table notebook</a>'\n",
              "            + ' to learn more about interactive tables.';\n",
              "          element.innerHTML = '';\n",
              "          dataTable['output_type'] = 'display_data';\n",
              "          await google.colab.output.renderOutput(dataTable, element);\n",
              "          const docLink = document.createElement('div');\n",
              "          docLink.innerHTML = docLinkHtml;\n",
              "          element.appendChild(docLink);\n",
              "        }\n",
              "      </script>\n",
              "    </div>\n",
              "  </div>\n",
              "  "
            ]
          },
          "metadata": {},
          "execution_count": 28
        }
      ]
    },
    {
      "cell_type": "code",
      "source": [
        "country_filter = (plot_df['COUNTRY'] != 'Costa Rica') & (plot_df['COUNTRY'] != 'Chile') & (plot_df['COUNTRY'] !=  'Bulgaria') & (plot_df['COUNTRY'] != 'Turkey') & (plot_df['COUNTRY'] != 'Lithuania')& (plot_df['COUNTRY'] != 'Latvia')\n",
        "country_filter2 = (plot_df['COUNTRY'] != 'Israel') & (plot_df['COUNTRY'] != 'Romania') & (plot_df['COUNTRY'] != 'New Zealand') & (plot_df['COUNTRY'] != 'Spain') & (plot_df['COUNTRY'] != 'Switzerland') & (plot_df['COUNTRY'] != 'Portugal')\n",
        "country_filter3 = (plot_df['COUNTRY'] != 'Greece') & (plot_df['COUNTRY'] != 'Luxembourg') & (plot_df['COUNTRY'] != 'Estonia') & (plot_df['COUNTRY'] != 'Netherlands') & (plot_df['COUNTRY'] != 'Ireland')"
      ],
      "metadata": {
        "id": "H_zEU_DHonpn"
      },
      "execution_count": 29,
      "outputs": []
    },
    {
      "cell_type": "code",
      "source": [
        "year_filter = (plot_df['YEAR'] >= 2017) & (plot_df['YEAR'] <= 2020)\n",
        "plot_df = plot_df[year_filter & country_filter & country_filter2 & country_filter3]"
      ],
      "metadata": {
        "id": "7sz4OXZAkwWx"
      },
      "execution_count": 30,
      "outputs": []
    },
    {
      "cell_type": "code",
      "source": [
        "plot_df = plot_df.sort_values('YEAR', ascending = False).drop_duplicates('COUNTRY', keep = 'first')\n",
        "plot_df = plot_df.sort_values('VALUE', ascending = False).head(12)\n",
        "plot_df['COUNTRY'].replace(to_replace = 'Russian Federation', value = 'Russia', inplace = True)\n",
        "plot_df"
      ],
      "metadata": {
        "id": "zd39aFKYl5vI",
        "colab": {
          "base_uri": "https://localhost:8080/",
          "height": 426
        },
        "outputId": "8c4520a6-79f0-4827-920d-8ea6d8779277"
      },
      "execution_count": 31,
      "outputs": [
        {
          "output_type": "execute_result",
          "data": {
            "text/plain": [
              "            COUNTRY G7  YEAR  VALUE\n",
              "470    South Africa  N  2017  0.618\n",
              "230          Mexico  N  2020  0.420\n",
              "380   United States  Y  2019  0.395\n",
              "373  United Kingdom  Y  2019  0.366\n",
              "210           Japan  Y  2018  0.334\n",
              "220     South Korea  N  2020  0.331\n",
              "209           Italy  Y  2018  0.330\n",
              "3         Australia  N  2018  0.325\n",
              "420          Russia  N  2017  0.317\n",
              "62           Canada  Y  2019  0.301\n",
              "126          France  Y  2019  0.292\n",
              "135         Germany  Y  2018  0.289"
            ],
            "text/html": [
              "\n",
              "  <div id=\"df-968d2b3a-ee5a-4516-83e2-6835690b931e\">\n",
              "    <div class=\"colab-df-container\">\n",
              "      <div>\n",
              "<style scoped>\n",
              "    .dataframe tbody tr th:only-of-type {\n",
              "        vertical-align: middle;\n",
              "    }\n",
              "\n",
              "    .dataframe tbody tr th {\n",
              "        vertical-align: top;\n",
              "    }\n",
              "\n",
              "    .dataframe thead th {\n",
              "        text-align: right;\n",
              "    }\n",
              "</style>\n",
              "<table border=\"1\" class=\"dataframe\">\n",
              "  <thead>\n",
              "    <tr style=\"text-align: right;\">\n",
              "      <th></th>\n",
              "      <th>COUNTRY</th>\n",
              "      <th>G7</th>\n",
              "      <th>YEAR</th>\n",
              "      <th>VALUE</th>\n",
              "    </tr>\n",
              "  </thead>\n",
              "  <tbody>\n",
              "    <tr>\n",
              "      <th>470</th>\n",
              "      <td>South Africa</td>\n",
              "      <td>N</td>\n",
              "      <td>2017</td>\n",
              "      <td>0.618</td>\n",
              "    </tr>\n",
              "    <tr>\n",
              "      <th>230</th>\n",
              "      <td>Mexico</td>\n",
              "      <td>N</td>\n",
              "      <td>2020</td>\n",
              "      <td>0.420</td>\n",
              "    </tr>\n",
              "    <tr>\n",
              "      <th>380</th>\n",
              "      <td>United States</td>\n",
              "      <td>Y</td>\n",
              "      <td>2019</td>\n",
              "      <td>0.395</td>\n",
              "    </tr>\n",
              "    <tr>\n",
              "      <th>373</th>\n",
              "      <td>United Kingdom</td>\n",
              "      <td>Y</td>\n",
              "      <td>2019</td>\n",
              "      <td>0.366</td>\n",
              "    </tr>\n",
              "    <tr>\n",
              "      <th>210</th>\n",
              "      <td>Japan</td>\n",
              "      <td>Y</td>\n",
              "      <td>2018</td>\n",
              "      <td>0.334</td>\n",
              "    </tr>\n",
              "    <tr>\n",
              "      <th>220</th>\n",
              "      <td>South Korea</td>\n",
              "      <td>N</td>\n",
              "      <td>2020</td>\n",
              "      <td>0.331</td>\n",
              "    </tr>\n",
              "    <tr>\n",
              "      <th>209</th>\n",
              "      <td>Italy</td>\n",
              "      <td>Y</td>\n",
              "      <td>2018</td>\n",
              "      <td>0.330</td>\n",
              "    </tr>\n",
              "    <tr>\n",
              "      <th>3</th>\n",
              "      <td>Australia</td>\n",
              "      <td>N</td>\n",
              "      <td>2018</td>\n",
              "      <td>0.325</td>\n",
              "    </tr>\n",
              "    <tr>\n",
              "      <th>420</th>\n",
              "      <td>Russia</td>\n",
              "      <td>N</td>\n",
              "      <td>2017</td>\n",
              "      <td>0.317</td>\n",
              "    </tr>\n",
              "    <tr>\n",
              "      <th>62</th>\n",
              "      <td>Canada</td>\n",
              "      <td>Y</td>\n",
              "      <td>2019</td>\n",
              "      <td>0.301</td>\n",
              "    </tr>\n",
              "    <tr>\n",
              "      <th>126</th>\n",
              "      <td>France</td>\n",
              "      <td>Y</td>\n",
              "      <td>2019</td>\n",
              "      <td>0.292</td>\n",
              "    </tr>\n",
              "    <tr>\n",
              "      <th>135</th>\n",
              "      <td>Germany</td>\n",
              "      <td>Y</td>\n",
              "      <td>2018</td>\n",
              "      <td>0.289</td>\n",
              "    </tr>\n",
              "  </tbody>\n",
              "</table>\n",
              "</div>\n",
              "      <button class=\"colab-df-convert\" onclick=\"convertToInteractive('df-968d2b3a-ee5a-4516-83e2-6835690b931e')\"\n",
              "              title=\"Convert this dataframe to an interactive table.\"\n",
              "              style=\"display:none;\">\n",
              "        \n",
              "  <svg xmlns=\"http://www.w3.org/2000/svg\" height=\"24px\"viewBox=\"0 0 24 24\"\n",
              "       width=\"24px\">\n",
              "    <path d=\"M0 0h24v24H0V0z\" fill=\"none\"/>\n",
              "    <path d=\"M18.56 5.44l.94 2.06.94-2.06 2.06-.94-2.06-.94-.94-2.06-.94 2.06-2.06.94zm-11 1L8.5 8.5l.94-2.06 2.06-.94-2.06-.94L8.5 2.5l-.94 2.06-2.06.94zm10 10l.94 2.06.94-2.06 2.06-.94-2.06-.94-.94-2.06-.94 2.06-2.06.94z\"/><path d=\"M17.41 7.96l-1.37-1.37c-.4-.4-.92-.59-1.43-.59-.52 0-1.04.2-1.43.59L10.3 9.45l-7.72 7.72c-.78.78-.78 2.05 0 2.83L4 21.41c.39.39.9.59 1.41.59.51 0 1.02-.2 1.41-.59l7.78-7.78 2.81-2.81c.8-.78.8-2.07 0-2.86zM5.41 20L4 18.59l7.72-7.72 1.47 1.35L5.41 20z\"/>\n",
              "  </svg>\n",
              "      </button>\n",
              "      \n",
              "  <style>\n",
              "    .colab-df-container {\n",
              "      display:flex;\n",
              "      flex-wrap:wrap;\n",
              "      gap: 12px;\n",
              "    }\n",
              "\n",
              "    .colab-df-convert {\n",
              "      background-color: #E8F0FE;\n",
              "      border: none;\n",
              "      border-radius: 50%;\n",
              "      cursor: pointer;\n",
              "      display: none;\n",
              "      fill: #1967D2;\n",
              "      height: 32px;\n",
              "      padding: 0 0 0 0;\n",
              "      width: 32px;\n",
              "    }\n",
              "\n",
              "    .colab-df-convert:hover {\n",
              "      background-color: #E2EBFA;\n",
              "      box-shadow: 0px 1px 2px rgba(60, 64, 67, 0.3), 0px 1px 3px 1px rgba(60, 64, 67, 0.15);\n",
              "      fill: #174EA6;\n",
              "    }\n",
              "\n",
              "    [theme=dark] .colab-df-convert {\n",
              "      background-color: #3B4455;\n",
              "      fill: #D2E3FC;\n",
              "    }\n",
              "\n",
              "    [theme=dark] .colab-df-convert:hover {\n",
              "      background-color: #434B5C;\n",
              "      box-shadow: 0px 1px 3px 1px rgba(0, 0, 0, 0.15);\n",
              "      filter: drop-shadow(0px 1px 2px rgba(0, 0, 0, 0.3));\n",
              "      fill: #FFFFFF;\n",
              "    }\n",
              "  </style>\n",
              "\n",
              "      <script>\n",
              "        const buttonEl =\n",
              "          document.querySelector('#df-968d2b3a-ee5a-4516-83e2-6835690b931e button.colab-df-convert');\n",
              "        buttonEl.style.display =\n",
              "          google.colab.kernel.accessAllowed ? 'block' : 'none';\n",
              "\n",
              "        async function convertToInteractive(key) {\n",
              "          const element = document.querySelector('#df-968d2b3a-ee5a-4516-83e2-6835690b931e');\n",
              "          const dataTable =\n",
              "            await google.colab.kernel.invokeFunction('convertToInteractive',\n",
              "                                                     [key], {});\n",
              "          if (!dataTable) return;\n",
              "\n",
              "          const docLinkHtml = 'Like what you see? Visit the ' +\n",
              "            '<a target=\"_blank\" href=https://colab.research.google.com/notebooks/data_table.ipynb>data table notebook</a>'\n",
              "            + ' to learn more about interactive tables.';\n",
              "          element.innerHTML = '';\n",
              "          dataTable['output_type'] = 'display_data';\n",
              "          await google.colab.output.renderOutput(dataTable, element);\n",
              "          const docLink = document.createElement('div');\n",
              "          docLink.innerHTML = docLinkHtml;\n",
              "          element.appendChild(docLink);\n",
              "        }\n",
              "      </script>\n",
              "    </div>\n",
              "  </div>\n",
              "  "
            ]
          },
          "metadata": {},
          "execution_count": 31
        }
      ]
    },
    {
      "cell_type": "markdown",
      "source": [
        "##Reproducing the original visualization"
      ],
      "metadata": {
        "id": "mwhUH3ExoWue"
      }
    },
    {
      "cell_type": "code",
      "source": [
        "color_map = []\n",
        "for ind in plot_df.index:\n",
        "    if plot_df.loc[ind, 'G7'] == 'Y':\n",
        "        color_map.append('red')\n",
        "    else:\n",
        "        color_map.append('grey')"
      ],
      "metadata": {
        "id": "bfRuGw8Govk3"
      },
      "execution_count": 32,
      "outputs": []
    },
    {
      "cell_type": "code",
      "source": [
        "fig, axes = plt.subplots(figsize = (10,6))\n",
        "\n",
        "sns.barplot(data = plot_df, x = 'VALUE', y = 'COUNTRY', palette = color_map)\n",
        "\n",
        "suptitle1 = fig.suptitle('The UK has the second highest income inequality among G7 countries', fontsize = 20, fontweight = 'bold', y = 1.01)\n",
        "axes.set_title('Gini coefficient, 0 = complete equality; 1 = complete inequality', y = 1.1)\n",
        "\n",
        "axes.xaxis.set_ticks_position('top')\n",
        "axes.grid(axis='x')\n",
        "axes.set(xlabel=None, ylabel=None)\n",
        "\n",
        "axes.text(.1, 12.5, 'Note: Selected countries shown for which recent data (2017 to 2020) is available')\n",
        "\n",
        "axes.legend(title = 'G7 Nation', loc='upper left', labels = ['G7', 'Other'], bbox_to_anchor=(-.05,1.25))\n",
        "fig.tight_layout()\n",
        "fig.savefig('figure2.png', dpi=fig.dpi, bbox_inches='tight',bbox_extra_artists=[suptitle1])"
      ],
      "metadata": {
        "colab": {
          "base_uri": "https://localhost:8080/",
          "height": 443
        },
        "id": "Gx_hY4eJoNSD",
        "outputId": "0634d170-4096-4e36-c526-612bcb3be533"
      },
      "execution_count": 44,
      "outputs": [
        {
          "output_type": "display_data",
          "data": {
            "text/plain": [
              "<Figure size 720x432 with 1 Axes>"
            ],
            "image/png": "[encoded data removed]"
          },
          "metadata": {
            "needs_background": "light"
          }
        }
      ]
    },
    {
      "cell_type": "markdown",
      "source": [
        "##Improving the plot"
      ],
      "metadata": {
        "id": "XtFpOOvL0mDJ"
      }
    },
    {
      "cell_type": "code",
      "source": [
        "color_map = []\n",
        "for ind in plot_df.index:\n",
        "    if plot_df.loc[ind, 'COUNTRY'] == 'United Kingdom':\n",
        "        color_map.append('red')\n",
        "    elif plot_df.loc[ind, 'G7'] == 'Y':\n",
        "        color_map.append('coral')\n",
        "    else:\n",
        "        color_map.append('grey')"
      ],
      "metadata": {
        "id": "aK5tYr2JtRwE"
      },
      "execution_count": 34,
      "outputs": []
    },
    {
      "cell_type": "code",
      "source": [
        "plot2_df = df[df['YEAR'] < 2021]\n",
        "plot2_df = plot2_df.groupby('YEAR')[['VALUE']].mean()"
      ],
      "metadata": {
        "id": "D3W7OEEruRdP"
      },
      "execution_count": 35,
      "outputs": []
    },
    {
      "cell_type": "code",
      "source": [
        "plot3_df = plot_df[plot_df['G7'] == 'Y']\n",
        "\n",
        "color_map2 = []\n",
        "for ind in plot3_df.index:\n",
        "    if plot3_df.loc[ind, 'COUNTRY'] == 'United Kingdom':\n",
        "        color_map2.append('red')\n",
        "    else:\n",
        "        color_map2.append('coral')"
      ],
      "metadata": {
        "id": "Sl3gDRaVvjlo"
      },
      "execution_count": 36,
      "outputs": []
    },
    {
      "cell_type": "code",
      "source": [
        "fig, axes = plt.subplots(nrows = 3, figsize = (15, 20))\n",
        "\n",
        "sns.barplot(data = plot_df, x = 'VALUE', y = 'COUNTRY', palette = color_map, ax = axes[0])\n",
        "axes[0].set_title('Countries by Income Inequality', fontsize = 16, fontweight = 'bold')\n",
        "\n",
        "sns.barplot(data = plot3_df, x = 'VALUE', y = 'COUNTRY', palette = color_map2, ax = axes[1])\n",
        "axes[1].set_title('G7 Countries by Income Inequality', fontsize = 16, fontweight = 'bold')\n",
        "\n",
        "sns.lineplot(data = plot2_df, x = 'YEAR', y = 'VALUE', ax = axes[2], linewidth = 5)\n",
        "axes[2].set_title('Worldwide Average Income Inequality by Year', fontsize = 16, fontweight = 'bold')\n",
        "\n",
        "axes[0].set(xlabel=None, ylabel=None)\n",
        "axes[1].set(xlabel=None, ylabel=None)\n",
        "axes[2].set(xlabel=None, ylabel=None)\n",
        "\n",
        "axes[0].set_xlim(0.0, 0.7)\n",
        "axes[1].set_xlim(0.0, 0.7)\n",
        "\n",
        "axes[0].xaxis.set_ticks_position('top')\n",
        "axes[0].grid(axis='x')\n",
        "axes[1].xaxis.set_ticks_position('top')\n",
        "axes[1].grid(axis='x')\n",
        "axes[2].grid(axis='both')\n",
        "\n",
        "axes[0].text(.55,9.9, 'Gini coefficient, 0 = complete equality; 1 = complete inequality', horizontalalignment = 'center', verticalalignment = 'center', fontweight = 'bold')\n",
        "axes[1].text(.55,5.5, 'Gini coefficient, 0 = complete equality; 1 = complete inequality', horizontalalignment = 'center', verticalalignment = 'center', fontweight = 'bold')\n",
        "\n",
        "axes[0].legend(loc='upper left', labels = ['UK', 'G7', 'Other'], bbox_to_anchor=(1.02,1))\n",
        "suptitle = fig.suptitle('The UK has the second highest income inequality among G7 countries', fontsize = 22, fontweight = 'bold', y = 1.02)\n",
        "\n",
        "fig.tight_layout(pad = 3)\n",
        "fig.savefig('figure.png', dpi=fig.dpi, bbox_inches='tight',bbox_extra_artists=[suptitle])"
      ],
      "metadata": {
        "id": "ShJho_TR0lfV",
        "colab": {
          "base_uri": "https://localhost:8080/",
          "height": 1000
        },
        "outputId": "52ef05c3-c01a-4b58-bf14-55e701ae1d32"
      },
      "execution_count": 43,
      "outputs": [
        {
          "output_type": "display_data",
          "data": {
            "text/plain": [
              "<Figure size 1080x1440 with 3 Axes>"
            ],
            "image/png": "[encoded data removed]"
          },
          "metadata": {
            "needs_background": "light"
          }
        }
      ]
    }
  ]
}